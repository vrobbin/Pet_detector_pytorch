{
  "nbformat": 4,
  "nbformat_minor": 0,
  "metadata": {
    "colab": {
      "name": "PetImages_processing.ipynb",
      "provenance": [],
      "mount_file_id": "10d9mmXP5CYyfGSDUxvEih6BbkwxfSFBo",
      "authorship_tag": "ABX9TyO6bM6Ek7HwWvrRi4hnqAQH",
      "include_colab_link": true
    },
    "kernelspec": {
      "name": "python3",
      "display_name": "Python 3"
    }
  },
  "cells": [
    {
      "cell_type": "markdown",
      "metadata": {
        "id": "view-in-github",
        "colab_type": "text"
      },
      "source": [
        "<a href=\"https://colab.research.google.com/github/vrobbin/Pet_detector_pytorch/blob/main/PetImages_processing.ipynb\" target=\"_parent\"><img src=\"https://colab.research.google.com/assets/colab-badge.svg\" alt=\"Open In Colab\"/></a>"
      ]
    },
    {
      "cell_type": "markdown",
      "metadata": {
        "id": "bftUIVr2XP2O"
      },
      "source": [
        "## Read and resize images"
      ]
    },
    {
      "cell_type": "code",
      "metadata": {
        "id": "gFm9RSfL_maV"
      },
      "source": [
        "import numpy as np\n",
        "import cv2\n",
        "import os\n",
        "\n",
        "# Read all images from folder with rabbit photos\n",
        "\n",
        "def load_images_from_folder(folder):\n",
        "    images = []\n",
        "    for filename in os.listdir(folder):\n",
        "        img = cv2.imread(os.path.join(folder,filename))\n",
        "        if img is not None:\n",
        "            images.append(cv2.resize(img, (128, 128), interpolation = cv2.INTER_AREA))\n",
        "    return images\n",
        "\n",
        "folder=\"./drive/My Drive/python/Lou_images\"\n",
        "\n",
        "images = load_images_from_folder(folder)\n",
        "\n"
      ],
      "execution_count": null,
      "outputs": []
    },
    {
      "cell_type": "markdown",
      "metadata": {
        "id": "foJ21KfpF0yB"
      },
      "source": [
        "## Save the resized images\n",
        "\n",
        "\n",
        "\n",
        "\n",
        "\n"
      ]
    },
    {
      "cell_type": "code",
      "metadata": {
        "id": "kelf2bsvFCP4",
        "outputId": "d4c3b834-7a21-463c-ab95-471886387c64",
        "colab": {
          "base_uri": "https://localhost:8080/",
          "height": 145
        }
      },
      "source": [
        "from google.colab.patches import cv2_imshow\n",
        "\n",
        "cv2_imshow(images[104])\n",
        "\n",
        "# save the resized images\n",
        "os.chdir(\"./drive/My Drive/python/Lou_images/resized\")\n",
        "\n",
        "for i, img in enumerate(images):\n",
        "  filename = f'lou{i}.jpg'\n",
        "  cv2.imwrite(filename, img)\n"
      ],
      "execution_count": null,
      "outputs": [
        {
          "output_type": "display_data",
          "data": {
            "image/png": "[encoded data removed]",
            "text/plain": [
              "<PIL.Image.Image image mode=RGB size=128x128 at 0x7FC4B1A16CC0>"
            ]
          },
          "metadata": {
            "tags": []
          }
        }
      ]
    },
    {
      "cell_type": "markdown",
      "metadata": {
        "id": "ne-r5NUGXFqF"
      },
      "source": [
        "## Read Labels json files"
      ]
    },
    {
      "cell_type": "code",
      "metadata": {
        "id": "BpXQ_LapFtOo"
      },
      "source": [
        "import json\n",
        "\n",
        "# labels directory\n",
        "folder = \"/content/drive/My Drive/python/Lou_images/resized/labels\"\n",
        "\n",
        "# go through all the json files and save the image label information\n",
        "def load_labels(folder):\n",
        "    labels = []\n",
        "    for filename in os.listdir(folder):\n",
        "        file_num = int(filename[3:-5])\n",
        "        with open(os.path.join(folder,filename)) as json_file:\n",
        "          data = json.load(json_file)\n",
        "          labels.append({\"num\":file_num, \"label\": data['shapes'][0]['label'], \"points\": data['shapes'][0]['points']})\n",
        "    return labels\n",
        "\n",
        "labels = load_labels(folder)"
      ],
      "execution_count": 72,
      "outputs": []
    },
    {
      "cell_type": "code",
      "metadata": {
        "id": "OU4LyhAqaxbs",
        "outputId": "cf2750f4-feb9-48a4-b60c-4411a19758b6",
        "colab": {
          "base_uri": "https://localhost:8080/",
          "height": 34
        }
      },
      "source": [
        "len(labels)"
      ],
      "execution_count": 73,
      "outputs": [
        {
          "output_type": "execute_result",
          "data": {
            "text/plain": [
              "147"
            ]
          },
          "metadata": {
            "tags": []
          },
          "execution_count": 73
        }
      ]
    },
    {
      "cell_type": "code",
      "metadata": {
        "id": "Jg73df7Ga0ag",
        "outputId": "22a21270-68ce-408d-fb02-395063da8b96",
        "colab": {
          "base_uri": "https://localhost:8080/",
          "height": 34
        }
      },
      "source": [
        "int(a[3:])"
      ],
      "execution_count": null,
      "outputs": [
        {
          "output_type": "execute_result",
          "data": {
            "text/plain": [
              "23"
            ]
          },
          "metadata": {
            "tags": []
          },
          "execution_count": 30
        }
      ]
    },
    {
      "cell_type": "code",
      "metadata": {
        "id": "oDlRwJoHa4eo",
        "outputId": "7dfa5867-52a0-40a6-a7b2-6ddf11e74291",
        "colab": {
          "base_uri": "https://localhost:8080/",
          "height": 68
        }
      },
      "source": [
        "import json\n",
        "import os\n",
        "\n",
        "os.chdir(\"/content\")\n",
        "\n",
        "with open(\"./drive/My Drive/python/Lou_images/resized/labels/lou100.json\") as json_file:\n",
        "    data = json.load(json_file)\n",
        "    print(data['shapes'][0]['label'])\n",
        "    print(data['shapes'][0]['points'][0])\n",
        "    print(data['shapes'][0]['points'][1])"
      ],
      "execution_count": 63,
      "outputs": [
        {
          "output_type": "stream",
          "text": [
            "bunny\n",
            "[50.796052631578945, 91.28289473684211]\n",
            "[81.55263157894737, 119.07894736842105]\n"
          ],
          "name": "stdout"
        }
      ]
    },
    {
      "cell_type": "markdown",
      "metadata": {
        "id": "q8lJur-pkgTI"
      },
      "source": [
        "## Read and resize the images with no Louis visible"
      ]
    },
    {
      "cell_type": "code",
      "metadata": {
        "id": "aEF4S0mpdaW_",
        "outputId": "bef43d8e-7496-48c7-91bc-3b74481da4e2",
        "colab": {
          "base_uri": "https://localhost:8080/",
          "height": 34
        }
      },
      "source": [
        ""
      ],
      "execution_count": 57,
      "outputs": [
        {
          "output_type": "execute_result",
          "data": {
            "text/plain": [
              "['.config', 'drive', 'sample_data']"
            ]
          },
          "metadata": {
            "tags": []
          },
          "execution_count": 57
        }
      ]
    },
    {
      "cell_type": "markdown",
      "metadata": {
        "id": "WeA03nHVknXd"
      },
      "source": [
        "## Create a labels file for the images without Louis"
      ]
    },
    {
      "cell_type": "code",
      "metadata": {
        "id": "V79k9y30fNWX"
      },
      "source": [
        ""
      ],
      "execution_count": 56,
      "outputs": []
    },
    {
      "cell_type": "markdown",
      "metadata": {
        "id": "OBtlUWUck5g5"
      },
      "source": [
        "## Concatenate both image sets and labels"
      ]
    },
    {
      "cell_type": "code",
      "metadata": {
        "id": "m0gY3FFXfhZw"
      },
      "source": [
        ""
      ],
      "execution_count": null,
      "outputs": []
    }
  ]
}